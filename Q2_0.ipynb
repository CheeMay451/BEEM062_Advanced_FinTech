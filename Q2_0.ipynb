{
 "cells": [
  {
   "cell_type": "code",
   "execution_count": null,
   "metadata": {},
   "outputs": [],
   "source": [
    "import quandl\n",
    "import requests\n",
    "import pandas as pd\n",
    "import numpy as np\n",
    "import matplotlib.pyplot as plt"
   ]
  },
  {
   "cell_type": "code",
   "execution_count": null,
   "metadata": {},
   "outputs": [],
   "source": [
    "# Fetching historical high prices for AAPL stock data\n",
    "stock = pd.DataFrame()\n",
    "quandl.ApiConfig.api_key = \"LDs1p4AKWyMoJ2Cra2vJ\"\n",
    "q_data = quandl.get(\"WIKI/AAPL\", rows=1000)\n",
    "stock.index = q_data.index\n",
    "stock = pd.concat([stock, q_data.High], axis=1)\n",
    "stock.columns = [\"AAPL\"]"
   ]
  },
  {
   "cell_type": "code",
   "execution_count": null,
   "metadata": {},
   "outputs": [],
   "source": [
    "# Fetching historical high prices for BTC data\n",
    "lim = '2000'\n",
    "pair = 'BTC'\n",
    "all_data = 'true'\n",
    "coins = pd.DataFrame()\n",
    "crytocompare_api = 'df8f7bb8bab16cebbde44c0af4d27ec3b085443e39293638b4ec33d7a2f44d9e'\n",
    "url = 'https://min-api.cryptocompare.com/data/histoday?fsym=' + pair + '&tsym=USD&limit=' + lim + '&allData=' + all_data + '&api_key=' + crytocompare_api\n",
    "data = requests.get(url)\n",
    "json_data = data.json()\n",
    "table = pd.json_normalize(json_data, 'Data').set_index('time')\n",
    "table.index = pd.to_datetime(table.index ,unit='s')\n",
    "table = table.loc[stock.index]\n",
    "coins = pd.concat([coins, table.high], axis=1)\n",
    "coins.columns = [pair]"
   ]
  },
  {
   "cell_type": "code",
   "execution_count": null,
   "metadata": {},
   "outputs": [
    {
     "name": "stdout",
     "output_type": "stream",
     "text": [
      "alpha = 1437.0690448701198 \n",
      "beta = 3.7031770679221294\n"
     ]
    }
   ],
   "source": [
    "# Calculating alpha and beta for BTC and AAPL stock\n",
    "x = stock.loc[:,\"AAPL\"]\n",
    "y = coins.loc[:,pair]\n",
    "beta = ((np.multiply(y, x)).mean()-np.mean(x)*np.mean(y))/((np.multiply(x, x)).mean()-np.mean(x)*np.mean(x))\n",
    "alpha =np.mean(y)-beta*np.mean(x)\n",
    "print(\"alpha =\",alpha, \"\\nbeta =\",beta)"
   ]
  },
  {
   "cell_type": "code",
   "execution_count": null,
   "metadata": {},
   "outputs": [],
   "source": [
    "# Calculating mean squared error for BTC and AAPL stock\n",
    "def\t cal_cost(alpha,beta,x,y):\n",
    "\t\tn = len(y)\n",
    "\t\tpredictions = alpha + np.multiply(beta,x)\n",
    "\t\tcost = (1/2*n) * np.sum(np.square(predictions-y))\n",
    "\t\treturn cost"
   ]
  },
  {
   "cell_type": "code",
   "execution_count": null,
   "metadata": {},
   "outputs": [],
   "source": [
    "# Initialising variables for gradient descent optimisation\n",
    "iterations = 1000\n",
    "alpha = -11\n",
    "n = len(y)\n",
    "loss_history = np.zeros((iterations,1))\n",
    "alpha_history = np.zeros((iterations,1))"
   ]
  },
  {
   "cell_type": "code",
   "execution_count": null,
   "metadata": {},
   "outputs": [
    {
     "data": {
      "image/png": "[encoded data removed]",
      "text/plain": [
       "<Figure size 640x480 with 1 Axes>"
      ]
     },
     "metadata": {},
     "output_type": "display_data"
    }
   ],
   "source": [
    "# Gradient descent optimisation for alpha coefficient estimation\n",
    "for i in range(iterations):\t\t\n",
    "\t\tprediction = alpha + np.multiply(beta,x)\n",
    "\t\tresiduals = y-prediction\n",
    "\t\tresiduals_sum = sum(residuals)\n",
    "\t\tgradient = -(1/n)*0.1*residuals_sum\n",
    "\t\talpha = alpha - gradient\n",
    "\t\tloss_history[i] = cal_cost(alpha,beta,x,y)\n",
    "\t\talpha_history[i] = alpha\t\n",
    "plt.plot(alpha_history,loss_history,'go')\n",
    "plt.show()"
   ]
  },
  {
   "cell_type": "markdown",
   "metadata": {},
   "source": [
    "Convergence to a loss function minimum can be challenging because there are often local minima that can confuse optimisation algorithms. These algorithms might get stuck in these local minima instead of reaching the global minimum. Furthermore, factors like high dimensionality, noisy data, or non-convex loss surfaces can make convergence difficult.\n",
    "\n",
    "However, techniques such as adjusting learning rates, utilising regularisation methods, initialising paramaters, or different optimisation algorithms can be adopted to deal with these challenges. Moreover, convergence can also be improved by preprocessing data, reducing dimensionality, or using techniques like early stopping. \n",
    "\n",
    "\n"
   ]
  }
 ],
 "metadata": {
  "kernelspec": {
   "display_name": "Python 3",
   "language": "python",
   "name": "python3"
  },
  "language_info": {
   "codemirror_mode": {
    "name": "ipython",
    "version": 3
   },
   "file_extension": ".py",
   "mimetype": "text/x-python",
   "name": "python",
   "nbconvert_exporter": "python",
   "pygments_lexer": "ipython3",
   "version": "3.11.5"
  }
 },
 "nbformat": 4,
 "nbformat_minor": 2
}
